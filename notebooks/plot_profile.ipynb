{
 "cells": [
  {
   "cell_type": "markdown",
   "metadata": {},
   "source": [
    "# Plot fairness profile"
   ]
  },
  {
   "cell_type": "code",
   "execution_count": 1,
   "metadata": {},
   "outputs": [],
   "source": [
    "import matplotlib.pyplot as plt\n",
    "from matplotlib.ticker import FixedLocator  #, FormatStrFormatter\n",
    "import matplotlib.colors as plt_colors\n",
    "plt.style.use('seaborn')\n",
    "%matplotlib inline\n",
    "\n",
    "import numpy as np\n",
    "import sklearn.metrics as sk_metrics\n",
    "import scipy.interpolate as sp_inter\n",
    "\n",
    "import pickle\n",
    "import sys\n",
    "\n",
    "! mkdir -p ./figures"
   ]
  },
  {
   "cell_type": "code",
   "execution_count": 2,
   "metadata": {},
   "outputs": [],
   "source": [
    "def progress_bar(step, total):\n",
    "    sys.stdout.write('\\r')\n",
    "    sys.stdout.write(\"[%-99s] %2.d%%\" % ('='*step, total))\n",
    "    sys.stdout.flush()"
   ]
  },
  {
   "cell_type": "code",
   "execution_count": 3,
   "metadata": {},
   "outputs": [],
   "source": [
    "################################################################################\n",
    "\n",
    "# Trial\n",
    "# task_id, flow_id, fold_id = 31, 5889, 0\n",
    "task_id, flow_id, fold_id = 31, 66, 0\n",
    "\n",
    "##########     ##########     ##########     ##########     ##########\n",
    "\n",
    "# Fairness\n",
    "## Top-performing pipeline for each data set (i.e., task)\n",
    "### Supervised Classification on credit-approval # Gradient Boosting\n",
    "# task_id, flow_id, fold_id = 29, 12736, 0\n",
    "### Supervised Classification on credit-g # Ranger Classifier\n",
    "# task_id, flow_id, fold_id = 31, 6794, 0\n",
    "### Supervised Classification on adult # Boosting with Decision Trees\n",
    "# task_id, flow_id, fold_id = 7592, 6970, 0\n",
    "\n",
    "##########     ##########     ##########     ##########     ##########\n",
    "\n",
    "# Compare the influence of the shape of decision boundaries\n",
    "# task_id, flow_id, fold_id = 31, 1720, 0  # weka.J48 (decision tree) <- 22\n",
    "# task_id, flow_id, fold_id = 31, 66, 0    # weka.IBk (k-nearest neighbours) <- 13\n",
    "# task_id, flow_id, fold_id = 31, 1820, 0  # weka.MultilayerPerceptron <- 12\n",
    "## task_id, flow_id, fold_id = 31, 5920, 0  # weka.MultilayerPerceptron <- xx\n",
    "# task_id, flow_id, fold_id = 31, 70, 0    # weka.SMO_PolyKernel (SVM) <- 15\n",
    "# task_id, flow_id, fold_id = 31, 72, 0    # weka.SMO_RBFKernel (SVM) <- 33\n",
    "# task_id, flow_id, fold_id = 31, 1726, 0  # weka.RandomForest <- 20\n",
    "\n",
    "################################################################################"
   ]
  },
  {
   "cell_type": "code",
   "execution_count": 4,
   "metadata": {},
   "outputs": [],
   "source": [
    "fontsize_multi = 1.6 if task_id in (29, 31) and flow_id in (12736, 6794) else 1.0\n",
    "\n",
    "DELTA = None  # Round the performance to the n-th decimal place (int or None)\n",
    "\n",
    "# plot only the first few performance bands (int or False)\n",
    "LIMIT_PERFORMANCE_BANDS = True if task_id in (29, 31, 7592) and flow_id in (12736, 6794, 6970) else False\n",
    "\n",
    "PRINT_TOY_DATA = False  # Use the toy data instead of real data\n",
    "\n",
    "# first plot\n",
    "SKIP_ZEROS = True  # don't plot 0 bars height-wise\n",
    "TICK_TOCK = False  # staggered x-labels\n",
    "\n",
    "# second plot\n",
    "SANS_GROUND_TRUTH = True  # use just uniqueness of predictions without needing the ground truth for fairness validation set\n",
    "if task_id == 7592 and True:\n",
    "    FILTER_INSTANCES = 125  # filter only 125*2 (top and bottom) instances that are treated unfair\n",
    "else:\n",
    "    FILTER_INSTANCES = 0\n",
    "TICK_TOCK_Y = False  # staggered y-labels"
   ]
  },
  {
   "cell_type": "code",
   "execution_count": 5,
   "metadata": {},
   "outputs": [],
   "source": [
    "task_file = f'./run_cache/{task_id}/{task_id}_{flow_id}.pickle'\n",
    "\n",
    "with open(task_file, 'br') as f:\n",
    "    dict_ = pickle.load(f)\n",
    "    labels = dict_['labels']\n",
    "    predictions = dict_['runs']"
   ]
  },
  {
   "cell_type": "code",
   "execution_count": 6,
   "metadata": {},
   "outputs": [
    {
     "name": "stdout",
     "output_type": "stream",
     "text": [
      "Number of runs in the flow--fold: 13\n"
     ]
    }
   ],
   "source": [
    "print('Number of runs in the flow--fold:',\n",
    "      len(predictions[flow_id][fold_id]))"
   ]
  },
  {
   "cell_type": "code",
   "execution_count": 7,
   "metadata": {},
   "outputs": [
    {
     "name": "stdout",
     "output_type": "stream",
     "text": [
      "Number of instances in the test fold/data: 100\n"
     ]
    }
   ],
   "source": [
    "print('Number of instances in the test fold/data:',\n",
    "      predictions[flow_id][fold_id][0].shape[0])"
   ]
  },
  {
   "cell_type": "code",
   "execution_count": 8,
   "metadata": {},
   "outputs": [],
   "source": [
    "# group predictions by accuracy level\n",
    "per_metric = dict()\n",
    "\n",
    "for pred in predictions[flow_id][fold_id]:\n",
    "    y_acc = sk_metrics.accuracy_score(labels[fold_id].astype(pred.dtype), pred)\n",
    "    if DELTA:\n",
    "        y_acc = np.around(y_acc, decimals=DELTA)\n",
    "\n",
    "    pred_list = pred.tolist()\n",
    "    \n",
    "    if y_acc in per_metric:\n",
    "        per_metric[y_acc].append(pred_list)\n",
    "    else:\n",
    "        per_metric[y_acc] = [pred_list]"
   ]
  },
  {
   "cell_type": "code",
   "execution_count": 9,
   "metadata": {},
   "outputs": [
    {
     "name": "stdout",
     "output_type": "stream",
     "text": [
      "Number of unique performance bands: 6\n"
     ]
    }
   ],
   "source": [
    "performance_bands_number = len(per_metric.keys())\n",
    "\n",
    "print('Number of unique performance bands:', performance_bands_number)"
   ]
  },
  {
   "cell_type": "code",
   "execution_count": 10,
   "metadata": {},
   "outputs": [],
   "source": [
    "# find unique predictions allocations for each performance band\n",
    "fairness_profile = dict()\n",
    "\n",
    "for m in per_metric:\n",
    "    # 1. concat into columns of a single matrix\n",
    "    profile = np.column_stack(per_metric[m])\n",
    "    # 2. compute unique columns\n",
    "    _, profile_counts = np.unique(profile, axis=1, return_counts=True)\n",
    "    \n",
    "    assert m not in fairness_profile\n",
    "    fairness_profile[m] = profile_counts.tolist()"
   ]
  },
  {
   "cell_type": "code",
   "execution_count": 11,
   "metadata": {},
   "outputs": [],
   "source": [
    "# Toy example form the paper -- 50 + 50 Gaussian\n",
    "# interesting indices\n",
    "#     * border red indice top-right   : 25\n",
    "#     * border red indice bottom-right: 13\n",
    "#     * border red indices top-left   : 17, 42\n",
    "#     * border red indice centre      : 31\n",
    "#\n",
    "#     * border blue indice edge-top   : 53\n",
    "#     * border blue indice edge-centre: 77\n",
    "#     * border blue indice edge-bottom: 68\n",
    "#     * border blue indices edge-far  : 51, 87\n",
    "#     * border blue indice centre     : 94\n",
    "if PRINT_TOY_DATA:\n",
    "    #\n",
    "    # fairness_profile = {0.55: [22, 17, 33],\n",
    "    #                     0.75: [11, 3],\n",
    "    #                     0.8: [12, 5, 7, 12],\n",
    "    #                     0.95: [15]}\n",
    "    fairness_profile = {1.00: [3],\n",
    "                        0.99: [2, 2, 3, 1, 1, 1],  # line + 1-NN\n",
    "                        0.98: [2, 2, 1, 1, 1, 1]}  # line + poly\n",
    "    labels = {fold_id: np.asarray(50*[0] + 50*[1])}\n",
    "    predictions = {flow_id: {fold_id: [\n",
    "        # acc: 1.0\n",
    "        np.asarray(50*[0] + 50*[1]),\n",
    "        np.asarray(50*[0] + 50*[1]),\n",
    "        np.asarray(50*[0] + 50*[1]),\n",
    "        # acc: 0.99 -- line\n",
    "        np.asarray(25*[0] + [1] + 24*[0] + 50*[1]),  # red\n",
    "        np.asarray(13*[0] + [1] + 36*[0] + 50*[1]),  # red\n",
    "        np.asarray(50*[0] + 3*[1] + [0] + 46*[1]),  # blue\n",
    "        np.asarray(50*[0] + 27*[1] + [0] + 22*[1]),  # blue\n",
    "        # acc: 0.99 -- 1-NN\n",
    "        np.asarray(25*[0] + [1] + 24*[0] + 50*[1]),  # red\n",
    "        np.asarray(31*[0] + [1] + 18*[0] + 50*[1]),  # red\n",
    "        np.asarray(50*[0] + 27*[1] + [0] + 22*[1]),  # blue\n",
    "        np.asarray(50*[0] + 44*[1] + [0] + 5*[1]),  # ble\n",
    "        # acc: 0.98 -- line\n",
    "        np.asarray(13*[0] + [1] + 11*[0] + [1] + 24*[0] + 50*[1]),  # red\n",
    "        np.asarray(13*[0] + [1] + 36*[0] + 3*[1] + [0] + 46*[1]),  # mix\n",
    "        np.asarray(50*[0] + 3*[1] + [0] + 23*[1] + [0] + 22*[1]),  # blue\n",
    "        np.asarray(50*[0] + 18*[1] + [0] + 8*[1] + [0] + 22*[1]),  # blue\n",
    "        # acc: 0.98 -- poly\n",
    "        np.asarray(13*[0] + [1] + 11*[0] + [1] + 24*[0] + 50*[1]),  # red\n",
    "        np.asarray(17*[0] + [1] + 24*[0] + [1] + 7*[0] + 50*[1]),  # red\n",
    "        np.asarray(50*[0] + 3*[1] + [0] + 23*[1] + [0] + 22*[1]),  # blue\n",
    "        np.asarray(50*[0] + [1] + [0] + 35*[1] + [0] + 12*[1]),  # blue\n",
    "        # acc: 0.99 -- tree\n",
    "        np.asarray(50*[0] + 3*[1] + [0] + 46*[1]),  # index 53\n",
    "        np.asarray(50*[0] + 3*[1] + [0] + 46*[1]),  # index 53\n",
    "        ]}}"
   ]
  },
  {
   "cell_type": "markdown",
   "metadata": {},
   "source": [
    "## Un-normalised Smooth"
   ]
  },
  {
   "cell_type": "code",
   "execution_count": 12,
   "metadata": {},
   "outputs": [
    {
     "name": "stderr",
     "output_type": "stream",
     "text": [
      "/Users/kacper/.pyenv/versions/3.9.13/envs/openml/lib/python3.9/site-packages/numpy/core/fromnumeric.py:86: VisibleDeprecationWarning: Creating an ndarray from ragged nested sequences (which is a list-or-tuple of lists-or-tuples-or ndarrays with different lengths or shapes) is deprecated. If you meant to do this, you must specify 'dtype=object' when creating the ndarray.\n",
      "  return ufunc.reduce(obj, axis, dtype, out, **passkwargs)\n"
     ]
    }
   ],
   "source": [
    "labels_fig = np.flip(np.sort(\n",
    "    list(fairness_profile.keys())))  # max --to--> min (performance metric)\n",
    "\n",
    "data = [\n",
    "    sorted(fairness_profile[l])[::-1] for l in labels_fig\n",
    "]  # counts per performance band\n",
    "_fmt = '{:.4f}' if task_id == 7592 else '{:.2f}'\n",
    "labels_fig = [_fmt.format(i) for i in labels_fig]  # prettify\n",
    "\n",
    "# get top height\n",
    "bin_numbers = max([len(i) for i in data])\n",
    "max_val = np.max(data)\n",
    "\n",
    "# pad the counts with 0s\n",
    "data_padded = []\n",
    "for d in data:\n",
    "    data_padded.append(np.asarray(\n",
    "        d + ([0] * (bin_numbers - len(d)))\n",
    "    ))"
   ]
  },
  {
   "cell_type": "code",
   "execution_count": 13,
   "metadata": {},
   "outputs": [],
   "source": [
    "# get mid-points on the x-axis for each performance band\n",
    "binned_maximums = np.max(data_padded, axis=1)\n",
    "x_locations = [0]\n",
    "for i in binned_maximums:\n",
    "    x_locations.append(x_locations[-1] + i)\n",
    "x_locations = 0.5 * (x_locations + np.roll(x_locations, -1))[:-1]"
   ]
  },
  {
   "cell_type": "code",
   "execution_count": 14,
   "metadata": {},
   "outputs": [],
   "source": [
    "# colours = plt.rcParams['axes.prop_cycle'].by_key()['color']\n",
    "\n",
    "cc = plt.get_cmap('tab10')  # Set3\n",
    "colours = [plt_colors.rgb2hex(cc(i)) for i in range(cc.N)]\n",
    "\n",
    "# loop colours ot have enough of them\n",
    "colours = (int(performance_bands_number / len(colours)) + 1) * colours"
   ]
  },
  {
   "cell_type": "code",
   "execution_count": 15,
   "metadata": {},
   "outputs": [],
   "source": [
    "# get plot range for the y-axis\n",
    "custom_range = np.arange(\n",
    "    0,\n",
    "    bin_numbers,\n",
    "    1\n",
    ")\n",
    "custom_range_smooth = np.linspace(\n",
    "    0,\n",
    "    bin_numbers - 1,\n",
    "    bin_numbers * 100\n",
    ")"
   ]
  },
  {
   "cell_type": "code",
   "execution_count": 16,
   "metadata": {},
   "outputs": [],
   "source": [
    "data_smooth = []\n",
    "\n",
    "for d in data_padded:\n",
    "    smooth = sp_inter.PchipInterpolator(custom_range, d)\n",
    "    data_smooth.append(\n",
    "        smooth(custom_range_smooth))"
   ]
  },
  {
   "cell_type": "code",
   "execution_count": 17,
   "metadata": {},
   "outputs": [],
   "source": [
    "if LIMIT_PERFORMANCE_BANDS:\n",
    "    # res_ = 16  # 3, 2, 16\n",
    "    if task_id == 29:\n",
    "        res_ = 3\n",
    "    elif task_id == 31:\n",
    "        res_ = 2\n",
    "    elif task_id == 7592:\n",
    "        res_ = 16\n",
    "    else:\n",
    "        assert False, 'Cannot extract top performance bands'\n",
    "\n",
    "    # stability profile profile\n",
    "    x_locations_ = x_locations[:res_]\n",
    "    data_padded_ = data_padded[:res_]\n",
    "    data_smooth_ = data_smooth[:res_]\n",
    "\n",
    "    data_ = data[:res_]\n",
    "else:\n",
    "    # stability profile profile\n",
    "    x_locations_ = x_locations\n",
    "    data_padded_ = data_padded\n",
    "    data_smooth_ = data_smooth\n",
    "\n",
    "    data_ = data\n",
    "\n",
    "    res_ = x_locations.shape[0]"
   ]
  },
  {
   "cell_type": "code",
   "execution_count": 18,
   "metadata": {},
   "outputs": [
    {
     "name": "stdout",
     "output_type": "stream",
     "text": [
      "Total workflow runs to be plotted: 13    (out of 13 )\n"
     ]
    }
   ],
   "source": [
    "print('Total workflow runs to be plotted:',\n",
    "    sum([sum(i) for i in data_]),\n",
    "    '   (out of', len(predictions[flow_id][fold_id]), ')'\n",
    ")"
   ]
  },
  {
   "cell_type": "code",
   "execution_count": 19,
   "metadata": {},
   "outputs": [
    {
     "name": "stdout",
     "output_type": "stream",
     "text": [
      "[====================================================================================================] 100%"
     ]
    },
    {
     "data": {
      "image/png": "[encoded data removed]",
      "text/plain": [
       "<Figure size 1152x432 with 1 Axes>"
      ]
     },
     "metadata": {
      "needs_background": "light"
     },
     "output_type": "display_data"
    }
   ],
   "source": [
    "size_ = (16, 6)\n",
    "\n",
    "if task_id == 29 and flow_id == 12736 and fold_id == 0:\n",
    "    SKIP_ZEROS = True\n",
    "    size_ = (8, 10)\n",
    "elif task_id == 31 and flow_id == 6794 and fold_id == 0:\n",
    "    SKIP_ZEROS = True\n",
    "    size_ = (8, 10)\n",
    "elif task_id == 7592 and flow_id == 6970 and fold_id == 0 and DELTA == 2:\n",
    "    SKIP_ZEROS = True\n",
    "    TICK_TOCK = False\n",
    "    size_ = (10, 35)\n",
    "elif task_id == 7592 and flow_id == 6970 and fold_id == 0:\n",
    "    SKIP_ZEROS = True\n",
    "    TICK_TOCK = True\n",
    "    size_ = (8, 10)\n",
    "\n",
    "f = plt.figure(figsize=size_)  # 24, 24 # , 3 # 16, 6\n",
    "\n",
    "x_limits = []\n",
    "\n",
    "i_max = len(x_locations_)\n",
    "progress_bar(0, 0)\n",
    "#\n",
    "for i, (x_loc, custom_d, d, d_) in enumerate(zip(x_locations_, data_smooth_, data_padded_, data_)):\n",
    "    # body\n",
    "    c = i % len(colours)\n",
    "    if SKIP_ZEROS:\n",
    "        i_lim = custom_d.astype(bool).sum()\n",
    "        custom_range_smooth_ = custom_range_smooth[:i_lim]\n",
    "        custom_d_ = custom_d[:i_lim]\n",
    "    else:\n",
    "        custom_range_smooth_ = custom_range_smooth\n",
    "        custom_d_ = custom_d\n",
    "    plt.fill_betweenx(custom_range_smooth_,\n",
    "                      x_loc-.5*custom_d_, x_loc+.5*custom_d_,\n",
    "                      color=colours[c], alpha=0.3)\n",
    "    x_limits += [x_loc-.5*custom_d_, x_loc+.5*custom_d_]\n",
    "\n",
    "    # bars\n",
    "    #plt.hlines(y=custom_range,\n",
    "    #           xmin=x_loc-.5*d, xmax=x_loc+.5*d,\n",
    "    #           style='-o',\n",
    "    #           linewidth=3, color=colours[c])\n",
    "    for a, b in zip(custom_range, d):\n",
    "        if b == 0 and SKIP_ZEROS:  # skip labelling 0's\n",
    "            continue\n",
    "        plt.plot([x_loc-.5*b, x_loc+.5*b], [a, a], '-|',\n",
    "                 solid_capstyle='butt',\n",
    "                 markersize=15, markeredgewidth=3,\n",
    "                 color=colours[c], linewidth=2)\n",
    "    \n",
    "    for j, j_label in enumerate(d_):  # data[i]\n",
    "        if j_label == 0 and SKIP_ZEROS:  # skip labelling 0's\n",
    "            continue\n",
    "        plt.text(x_loc, j+.15, j_label, color=colours[c],\n",
    "                 fontfamily='monospace', fontweight='extra bold', fontsize=14,\n",
    "                 horizontalalignment='center')\n",
    "\n",
    "    prog_ = int(100*i/(i_max))\n",
    "    progress_bar(prog_, prog_)\n",
    "progress_bar(100, 100)\n",
    "\n",
    "plt.yticks([])\n",
    "\n",
    "if TICK_TOCK:\n",
    "    f.axes[0].xaxis.set_major_locator(FixedLocator(x_locations_[0::2]))  # even\n",
    "    f.axes[0].xaxis.set_minor_locator(FixedLocator(x_locations_[1::2]))  # odd\n",
    "    f.axes[0].xaxis.set_major_formatter(plt.FuncFormatter(lambda _, loc: labels_fig[0::2][loc]))\n",
    "    f.axes[0].xaxis.set_minor_formatter(plt.FuncFormatter(lambda _, loc: labels_fig[1::2][loc]))  # FormatStrFormatter(\"%d\"))\n",
    "    f.axes[0].tick_params(which='minor', pad=18, axis='x', labelsize=12)\n",
    "    # f.axes[0].xaxis.set_label_text(labels)\n",
    "else:\n",
    "    plt.xticks(x_locations_, labels_fig[:res_])\n",
    "\n",
    "plt.xlabel('Predictive Performance (Accuracy)', fontsize=12)\n",
    "plt.ylabel('Individual Fairness Profile', fontsize=12)\n",
    "\n",
    "y_min, y_max = f.axes[0].get_ylim()\n",
    "# plt.ylim((y_min, y_max + 0.5))\n",
    "#\n",
    "# plt.ylim((-.5, max([len(i) for i in data]) - 0.25))\n",
    "if task_id == 7592 and flow_id == 6970 and fold_id == 0 and LIMIT_PERFORMANCE_BANDS:\n",
    "    plt.ylim((-.05, 3.05))\n",
    "else:\n",
    "    plt.ylim((-.5, max([len(i) for i in data_]) + 0.25))\n",
    "# plt.ylim((-.5, max([i.astype(bool).sum() for i in data_padded_]) + 0.25))\n",
    "\n",
    "plt.xlim((x_locations_[0] - 0.5 * data_smooth_[0].max() - .5,\n",
    "          x_locations_[-1] + 0.5 * data_smooth_[-1].max() + .5))\n",
    "\n",
    "plt.xticks(fontsize=12)\n",
    "plt.yticks(fontsize=12)\n",
    "\n",
    "plt.grid(visible=None)\n",
    "\n",
    "if PRINT_TOY_DATA:\n",
    "    fig_path = f'./figures/model_profile_toy_16_3.pdf'  # 16, 3\n",
    "else:\n",
    "    fig_path = f'./figures/model_profile_{task_id}_{flow_id}_{fold_id}_{DELTA}.pdf'\n",
    "\n",
    "# plt.show()\n",
    "plt.savefig(\n",
    "    fig_path,\n",
    "    dpi=300,\n",
    "    bbox_inches='tight',\n",
    "    pad_inches=0)"
   ]
  },
  {
   "cell_type": "markdown",
   "metadata": {},
   "source": [
    "## Per-instance visualisation"
   ]
  },
  {
   "cell_type": "code",
   "execution_count": 20,
   "metadata": {},
   "outputs": [],
   "source": [
    "# get data for per-instance visualisation\n",
    "y_sort_idx = np.argsort(labels[fold_id])\n",
    "\n",
    "one_value = np.unique(labels[fold_id])\n",
    "assert one_value.shape[0] == 2\n",
    "one_value = one_value[0]\n",
    "\n",
    "individual_profile = dict()\n",
    "\n",
    "for pred in predictions[flow_id][fold_id]:\n",
    "    y = labels[fold_id].astype(pred.dtype)\n",
    "    y_ = pred\n",
    "\n",
    "    y_acc = sk_metrics.accuracy_score(y, y_)\n",
    "    if DELTA:\n",
    "        y_acc = np.around(y_acc, decimals=DELTA)\n",
    "\n",
    "    if SANS_GROUND_TRUTH:\n",
    "        y_sort_idx_ = np.argsort(y)\n",
    "        assert np.equal(y_sort_idx, y_sort_idx_).all()\n",
    "\n",
    "        y_comp = y_[y_sort_idx] == one_value  # .astype(bool)\n",
    "    else:\n",
    "        y_comp = y == y_\n",
    "    \n",
    "    if y_acc in individual_profile:\n",
    "        individual_profile[y_acc].append(y_comp)\n",
    "    else:\n",
    "        individual_profile[y_acc] = [y_comp]\n",
    "\n",
    "metric_values = sorted(individual_profile.keys())[::-1]"
   ]
  },
  {
   "cell_type": "code",
   "execution_count": 21,
   "metadata": {},
   "outputs": [],
   "source": [
    "# filter metric values if decided\n",
    "if LIMIT_PERFORMANCE_BANDS:\n",
    "    metric_values = metric_values[:res_]"
   ]
  },
  {
   "cell_type": "code",
   "execution_count": 22,
   "metadata": {},
   "outputs": [
    {
     "name": "stdout",
     "output_type": "stream",
     "text": [
      "Data points that are unfair across the investigated performance bands: 30 out of 100\n"
     ]
    }
   ],
   "source": [
    "alltogether = []\n",
    "for i in metric_values:  # individual_profile:\n",
    "    alltogether += individual_profile[i]\n",
    "\n",
    "filter_diff = np.logical_not(np.logical_or(\n",
    "    np.all(np.asarray(alltogether), axis=0),\n",
    "    np.all(np.logical_not(np.asarray(alltogether)), axis=0)\n",
    "))\n",
    "\n",
    "print('Data points that are unfair across the investigated performance bands:',\n",
    "      filter_diff.sum(), 'out of', filter_diff.shape[0])"
   ]
  },
  {
   "cell_type": "code",
   "execution_count": 23,
   "metadata": {},
   "outputs": [],
   "source": [
    "individual_profile_count = dict()\n",
    "y_ticks = dict()\n",
    "\n",
    "for i in metric_values:\n",
    "    # restrict to instaces that are affected\n",
    "    if FILTER_INSTANCES:\n",
    "        per1 = (np.asarray(individual_profile[i])[:, filter_diff])[:, :FILTER_INSTANCES]\n",
    "        per2 = (np.asarray(individual_profile[i])[:, filter_diff])[:, -FILTER_INSTANCES:]\n",
    "        per = np.hstack([per1, per2])\n",
    "        # per = (np.asarray(individual_profile[i])[:, filter_diff])[:, :250]\n",
    "    else:\n",
    "        per = np.asarray(individual_profile[i])\n",
    "\n",
    "    prof = per.shape[0] - per.sum(axis=0)  # per == per.dtype.type(ref_val)\n",
    "\n",
    "    individual_profile_count[i] = prof\n",
    "    y_ticks[i] = per.shape[0]"
   ]
  },
  {
   "cell_type": "markdown",
   "metadata": {},
   "source": [
    "### Left-aligned plot"
   ]
  },
  {
   "cell_type": "code",
   "execution_count": 24,
   "metadata": {},
   "outputs": [
    {
     "name": "stdout",
     "output_type": "stream",
     "text": [
      "[====================================================================================================] 100%\n",
      "--> pre plot <--\n"
     ]
    },
    {
     "data": {
      "image/png": "[encoded data removed]",
      "text/plain": [
       "<Figure size 1152x432 with 1 Axes>"
      ]
     },
     "metadata": {},
     "output_type": "display_data"
    }
   ],
   "source": [
    "# TODO: use polygon collections to speed up plotting\n",
    "# https://matplotlib.org/3.1.1/gallery/misc/histogram_path.html\n",
    "# https://matplotlib.org/stable/api/collections_api.html\n",
    "# https://stackoverflow.com/questions/53989321/matplotlib-pyplot-savefig-takes-really-long-time\n",
    "\n",
    "fontsize = 12 * fontsize_multi\n",
    "\n",
    "# TICK_TOCK_Y = True  # 12\n",
    "figsize = (16, 5) if task_id in (29, 31) and flow_id in (12736, 6794) else (16, 6)\n",
    "f = plt.figure(figsize=figsize)  # , 6 # , 3\n",
    "\n",
    "y = np.vstack(\n",
    "    [individual_profile_count[i] for i in metric_values])\n",
    "x = np.asarray(range(y.shape[1]))\n",
    "\n",
    "x_loc_f = np.cumsum([y_ticks[i] for i in metric_values])\n",
    "x_lab_f = [f'+{y_ticks[i]}' for i in metric_values]\n",
    "\n",
    "# actual plot\n",
    "# plt.stackplot(\n",
    "#     x, y,\n",
    "#     labels=[f'{i:.2f}' for i in metric_values],\n",
    "#     colors=colours)  # y1, y2, y3\n",
    "#\n",
    "_fmt = '{:.4f}' if task_id == 7592 else '{:.2f}'\n",
    "labels_ = [_fmt.format(i) for i in metric_values]\n",
    "heights_ = [y_ticks[i] for i in metric_values]\n",
    "for i in range(y.shape[0]):\n",
    "    # bottom_ = None if i == 0 else y[:i,:].sum(axis=0)\n",
    "    # plt.bar(x, y[i,:], 1, label=labels_[i], color=colours[i], bottom=bottom_)\n",
    "    #\n",
    "    bottom_ = None if i == 0 else x_loc_f[i-1]\n",
    "    bottom_1_ = y[i,:] if i == 0 else x_loc_f[i-1] + y[i,:]\n",
    "    plt.bar(x, y[i,:], 1, label=labels_[i], color=colours[i], alpha=0.6, bottom=bottom_, linewidth=0)#, rasterized=True\n",
    "    plt.bar(x, heights_[i]-y[i,:], 1, color=colours[i], alpha=0.3, bottom=bottom_1_, linewidth=0)# , rasterized=True\n",
    "\n",
    "    prog_ = int(100*i/y.shape[0])\n",
    "    progress_bar(prog_, prog_)\n",
    "progress_bar(100, 100)\n",
    "# actual plot\n",
    "\n",
    "handles_, labels_ = f.axes[0].get_legend_handles_labels()\n",
    "plt.legend(handles_[::-1], labels_[::-1], bbox_to_anchor=(1.04, .5), loc='center left', fontsize=fontsize)  # loc='upper left')\n",
    "\n",
    "### f.axes[0].tick_params(axis='y', colors='purple')\n",
    "#\n",
    "#\n",
    "if TICK_TOCK_Y:\n",
    "    f.axes[0].yaxis.set_major_locator(FixedLocator(x_loc_f[0::2]))  # even\n",
    "    f.axes[0].yaxis.set_minor_locator(FixedLocator(x_loc_f[1::2]))  # odd\n",
    "    f.axes[0].yaxis.set_major_formatter(plt.FuncFormatter(lambda _, loc: x_lab_f[0::2][loc]))\n",
    "    f.axes[0].yaxis.set_minor_formatter(plt.FuncFormatter(lambda _, loc: x_lab_f[1::2][loc]))\n",
    "    f.axes[0].tick_params(which='minor', pad=20, axis='y')\n",
    "else:\n",
    "    plt.yticks(x_loc_f, x_lab_f)\n",
    "#\n",
    "f.axes[0].yaxis.tick_right()\n",
    "#\n",
    "if TICK_TOCK_Y:\n",
    "    # for ticklabel, tickcolor in zip(f.axes[0].get_yticklabels(), colours):  # plt.gca().get_yticklabels()\n",
    "    ticks_ = []\n",
    "    maj_ = f.axes[0].get_yticklabels(which='major')\n",
    "    min_ = f.axes[0].get_yticklabels(which='minor')\n",
    "    for i in range(len(x_loc_f)):\n",
    "        if i%2 == 0:\n",
    "            i_ = maj_[int(i/2)]\n",
    "        else:\n",
    "            i_ = min_[int(i/2)]\n",
    "        ticks_.append(i_)\n",
    "    for ticklabel, tickcolor in zip(ticks_, colours):\n",
    "        ticklabel.set_color(tickcolor)\n",
    "else:\n",
    "    for ticklabel, tickcolor in zip(f.axes[0].get_yticklabels(), colours):\n",
    "        ticklabel.set_color(tickcolor)\n",
    "\n",
    "f.axes[0].xaxis.set_major_formatter(plt.FuncFormatter(lambda val, _: f'#{val:.0f}'))\n",
    "\n",
    "plt.grid(visible=True, which='minor', axis='y')\n",
    "plt.grid(visible=False, which='both', axis='x')\n",
    "\n",
    "plt.xlabel('Individual Instances', fontsize=fontsize)\n",
    "plt.ylabel('Mistakes per Performance Band', fontsize=fontsize)\n",
    "\n",
    "plt.xlim((-1,\n",
    "          y.shape[1]))\n",
    "\n",
    "plt.xticks(fontsize=fontsize)\n",
    "plt.yticks(fontsize=fontsize)\n",
    "\n",
    "if PRINT_TOY_DATA:\n",
    "    fig_path = f'./figures/prediction_profile_toy_16_3_{SANS_GROUND_TRUTH}.pdf'  # 16, 3\n",
    "else:\n",
    "    fig_path = f'./figures/prediction_profile_{task_id}_{flow_id}_{fold_id}_{SANS_GROUND_TRUTH}_{DELTA}.pdf'  # _16_3\n",
    "\n",
    "print('\\n--> pre plot <--')\n",
    "\n",
    "# plt.show()\n",
    "plt.savefig(\n",
    "    fig_path,\n",
    "    dpi=300,\n",
    "    bbox_inches='tight',\n",
    "    pad_inches=0)"
   ]
  },
  {
   "cell_type": "markdown",
   "metadata": {},
   "source": [
    "### Precise plot"
   ]
  },
  {
   "cell_type": "code",
   "execution_count": 25,
   "metadata": {},
   "outputs": [
    {
     "name": "stdout",
     "output_type": "stream",
     "text": [
      "[====================================================================================================] 100%\n",
      "--> pre plot <--\n"
     ]
    },
    {
     "data": {
      "image/png": "[encoded data removed]",
      "text/plain": [
       "<Figure size 1152x216 with 1 Axes>"
      ]
     },
     "metadata": {},
     "output_type": "display_data"
    }
   ],
   "source": [
    "f = plt.figure(figsize=(16, 3))  # 16, 16\n",
    "\n",
    "x_loc_f = np.cumsum([y_ticks[i] for i in metric_values])\n",
    "x_lab_f = [f'+{y_ticks[i]}' for i in metric_values]\n",
    "\n",
    "_fmt = '{:.4f}' if task_id == 7592 else '{:.2f}'\n",
    "labels_ = [_fmt.format(i) for i in metric_values]\n",
    "heights_ = [y_ticks[i] for i in metric_values]\n",
    "height_ = 0\n",
    "max_i = sum([len(individual_profile[i]) for i in metric_values])\n",
    "for i, i_a in enumerate(metric_values):\n",
    "    for j, j_a in enumerate(individual_profile[i_a]):\n",
    "        ll = labels_[i] if j == 0 else None\n",
    "        plt.bar(x, np.logical_not(j_a), 1, label=ll, color=colours[i], alpha=0.6, bottom=height_, linewidth=0, edgecolor=colours[i], rasterized=True)\n",
    "        plt.bar(x, j_a, 1, color=colours[i], alpha=0.3, bottom=height_, linewidth=0, edgecolor=colours[i], rasterized=True)\n",
    "\n",
    "        prog_ = int(100*height_/max_i)\n",
    "        progress_bar(prog_, prog_)\n",
    "\n",
    "        height_ += 1\n",
    "progress_bar(100, 100)\n",
    "# actual plot\n",
    "\n",
    "handles_, labels_ = f.axes[0].get_legend_handles_labels()\n",
    "plt.legend(handles_[::-1], labels_[::-1], bbox_to_anchor=(1.04, .5), loc='center left', fontsize=12)  # loc='upper left')\n",
    "\n",
    "### f.axes[0].tick_params(axis='y', colors='purple')\n",
    "#\n",
    "#\n",
    "if TICK_TOCK_Y:\n",
    "    f.axes[0].yaxis.set_major_locator(FixedLocator(x_loc_f[0::2]))  # even\n",
    "    f.axes[0].yaxis.set_minor_locator(FixedLocator(x_loc_f[1::2]))  # odd\n",
    "    f.axes[0].yaxis.set_major_formatter(plt.FuncFormatter(lambda _, loc: x_lab_f[0::2][loc]))\n",
    "    f.axes[0].yaxis.set_minor_formatter(plt.FuncFormatter(lambda _, loc: x_lab_f[1::2][loc]))\n",
    "    f.axes[0].tick_params(which='minor', pad=20, axis='y')\n",
    "else:\n",
    "    plt.yticks(x_loc_f, x_lab_f)\n",
    "#\n",
    "f.axes[0].yaxis.tick_right()\n",
    "#\n",
    "if TICK_TOCK_Y:\n",
    "    # for ticklabel, tickcolor in zip(f.axes[0].get_yticklabels(), colours):  # plt.gca().get_yticklabels()\n",
    "    ticks_ = []\n",
    "    maj_ = f.axes[0].get_yticklabels(which='major')\n",
    "    min_ = f.axes[0].get_yticklabels(which='minor')\n",
    "    for i in range(len(x_loc_f)):\n",
    "        if i%2 == 0:\n",
    "            i_ = maj_[int(i/2)]\n",
    "        else:\n",
    "            i_ = min_[int(i/2)]\n",
    "        ticks_.append(i_)\n",
    "    for ticklabel, tickcolor in zip(ticks_, colours):\n",
    "        ticklabel.set_color(tickcolor)\n",
    "else:\n",
    "    for ticklabel, tickcolor in zip(f.axes[0].get_yticklabels(), colours):\n",
    "        ticklabel.set_color(tickcolor)\n",
    "\n",
    "f.axes[0].xaxis.set_major_formatter(plt.FuncFormatter(lambda val, _: f'#{val:.0f}'))\n",
    "\n",
    "plt.grid(visible=True, which='minor', axis='y')\n",
    "plt.grid(visible=False, which='both', axis='x')\n",
    "\n",
    "plt.xlabel('Individual Instances', fontsize=12)\n",
    "plt.ylabel('Mistakes per Performance Band', fontsize=12)\n",
    "\n",
    "plt.xlim((-1, y.shape[1]))\n",
    "plt.ylim((0, height_))\n",
    "\n",
    "plt.xticks(fontsize=12)\n",
    "plt.yticks(fontsize=12)\n",
    "\n",
    "print('\\n--> pre plot <--')\n",
    "\n",
    "if PRINT_TOY_DATA:\n",
    "    fig_path = f'./figures/prediction_profile_toy_16_3_{SANS_GROUND_TRUTH}_.pdf'  # 16, 3\n",
    "else:\n",
    "    fig_path = f'./figures/prediction_profile_{task_id}_{flow_id}_{fold_id}_{SANS_GROUND_TRUTH}_.pdf'\n",
    "\n",
    "# plt.show()\n",
    "plt.savefig(\n",
    "    fig_path,\n",
    "    dpi=300,\n",
    "    bbox_inches='tight',\n",
    "    pad_inches=0)"
   ]
  },
  {
   "cell_type": "code",
   "execution_count": null,
   "metadata": {},
   "outputs": [],
   "source": []
  }
 ],
 "metadata": {
  "kernelspec": {
   "display_name": "Python 3.9.13 64-bit ('openml')",
   "language": "python",
   "name": "python3"
  },
  "language_info": {
   "codemirror_mode": {
    "name": "ipython",
    "version": 3
   },
   "file_extension": ".py",
   "mimetype": "text/x-python",
   "name": "python",
   "nbconvert_exporter": "python",
   "pygments_lexer": "ipython3",
   "version": "3.9.13"
  },
  "orig_nbformat": 4,
  "vscode": {
   "interpreter": {
    "hash": "334a9ae083b24a0cf109a8aa938c0a5b5fab01cb53805a37cb4a1853ba39eeee"
   }
  }
 },
 "nbformat": 4,
 "nbformat_minor": 2
}
